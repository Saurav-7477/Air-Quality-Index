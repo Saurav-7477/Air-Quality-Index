{
 "cells": [
  {
   "cell_type": "code",
   "execution_count": null,
   "id": "77ab91fb",
   "metadata": {},
   "outputs": [],
   "source": [
    "import pickle\n",
    "import streamlit as st\n",
    "\n",
    "def load_model():\n",
    "    pickle_in = open(\"XGboost.pkl\", \"rb\")\n",
    "    model = pickle.load(pickle_in)\n",
    "    return model\n",
    "\n",
    "def predict_AQI(model, Average_Temperature, Maximum_Temperature, Minimum_Temperature, Atm_pressure_at_sea_level, Average_wind_speed):\n",
    "    prediction = model.predict([[Average_Temperature, Maximum_Temperature, Minimum_Temperature,\n",
    "                                 Atm_pressure_at_sea_level, Average_wind_speed]])\n",
    "    return prediction\n",
    "\n",
    "def main():\n",
    "    st.title(\"Hyderabad AQI Prediction\")\n",
    "    html_temp = \"\"\"\n",
    "    <div style=\"background-color:green;padding:20px\">\n",
    "    <h2 style=\"color:white;text-align:center;\">AQI Prediction ML App</h2>\n",
    "    </div>\n",
    "    \"\"\"\n",
    "    st.markdown(html_temp, unsafe_allow_html=True)\n",
    "\n",
    "    model = load_model()\n",
    "\n",
    "    Average_Temperature = st.text_input(\"Average Temperature\", \"Type Here\")\n",
    "    Maximum_Temperature = st.text_input(\"Maximum Temperature\", \"Type Here\")\n",
    "    Minimum_Temperature = st.text_input(\"Minimum Temperature\", \"Type Here\")\n",
    "    Atm_pressure_at_sea_level = st.text_input(\"Atmospheric Pressure at Sea Level\", \"Type Here\")\n",
    "    Average_wind_speed = st.text_input(\"Average Wind Speed\", \"Type Here\")\n",
    "\n",
    "    result = \"\"\n",
    "    if st.button(\"Predict\"):\n",
    "        result = predict_AQI(model, Average_Temperature, Maximum_Temperature, Minimum_Temperature,\n",
    "                             Atm_pressure_at_sea_level, Average_wind_speed)\n",
    "        st.success('The predicted AQI is: {}'.format(result[0]))\n",
    "\n",
    "    if st.button(\"About\"):\n",
    "        st.text(\"Let's Learn\")\n",
    "        st.text(\"Built with Streamlit\")\n",
    "\n",
    "if __name__ == '__main__':\n",
    "    main()"
   ]
  }
 ],
 "metadata": {
  "kernelspec": {
   "display_name": "Python 3 (ipykernel)",
   "language": "python",
   "name": "python3"
  },
  "language_info": {
   "codemirror_mode": {
    "name": "ipython",
    "version": 3
   },
   "file_extension": ".py",
   "mimetype": "text/x-python",
   "name": "python",
   "nbconvert_exporter": "python",
   "pygments_lexer": "ipython3",
   "version": "3.9.0"
  }
 },
 "nbformat": 4,
 "nbformat_minor": 5
}
